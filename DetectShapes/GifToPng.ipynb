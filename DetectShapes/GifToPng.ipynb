{
 "cells": [
  {
   "cell_type": "code",
   "execution_count": 42,
   "metadata": {
    "ExecuteTime": {
     "end_time": "2022-08-07T14:21:45.277598Z",
     "start_time": "2022-08-07T14:21:44.782133Z"
    }
   },
   "outputs": [],
   "source": [
    "from PIL import Image\n",
    "import sys\n",
    "import os\n",
    "import cv2"
   ]
  },
  {
   "cell_type": "code",
   "execution_count": 27,
   "metadata": {
    "ExecuteTime": {
     "end_time": "2022-08-07T14:13:51.970254Z",
     "start_time": "2022-08-07T14:13:51.963270Z"
    }
   },
   "outputs": [],
   "source": [
    "def processImage(infile):\n",
    "    try:\n",
    "        im = Image.open(infile)\n",
    "    except IOError:\n",
    "        print (f\"Cant load, {infile}\")\n",
    "        sys.exit(1)\n",
    "    i = 0\n",
    "    mypalette = im.getpalette()\n",
    "\n",
    "    try:\n",
    "        while 1:\n",
    "            im.putpalette(mypalette)\n",
    "            new_im = Image.new(\"RGBA\", im.size)\n",
    "            new_im.paste(im)\n",
    "            print(infile)\n",
    "            #x = infile.split(\"\\ \")\n",
    "            print(os.path.basename(infile).split(\".\")[0])\n",
    "            new_im.save(os.path.basename(infile).split(\".\")[0]+'.png')\n",
    "\n",
    "            i += 1\n",
    "            im.seek(im.tell() + 1)\n",
    "\n",
    "    except EOFError:\n",
    "        pass # end of sequence"
   ]
  },
  {
   "cell_type": "code",
   "execution_count": 35,
   "metadata": {
    "ExecuteTime": {
     "end_time": "2022-08-07T14:16:31.096300Z",
     "start_time": "2022-08-07T14:16:31.060851Z"
    }
   },
   "outputs": [
    {
     "name": "stdout",
     "output_type": "stream",
     "text": [
      "C:\\Users\\davidra\\Desktop\\NINJA_RAFAEL\\Ninja2-master\\DetectShapes\\shapes_and_colors\\triangle.gif\n",
      "triangle\n"
     ]
    }
   ],
   "source": [
    "processImage(r'C:\\Users\\davidra\\Desktop\\NINJA_RAFAEL\\Ninja2-master\\DetectShapes\\shapes_and_colors\\triangle.gif')"
   ]
  },
  {
   "cell_type": "code",
   "execution_count": 61,
   "metadata": {
    "ExecuteTime": {
     "end_time": "2022-08-07T14:26:36.585402Z",
     "start_time": "2022-08-07T14:26:36.580408Z"
    }
   },
   "outputs": [],
   "source": [
    "def GetCV2ImageCenterColor(cv2_img):\n",
    "    img = cv2.cvtColor(cv2_img, cv2.COLOR_BGR2RGB)\n",
    "    return tuple(img[int(img.shape[0]/2), int(img.shape[1]/2)])\n",
    "\n",
    "def LoadFrame(filename, dirpath):\n",
    "    full_path = os.path.join(dirpath, filename)\n",
    "    return cv2.imread(full_path)"
   ]
  },
  {
   "cell_type": "code",
   "execution_count": 65,
   "metadata": {
    "ExecuteTime": {
     "end_time": "2022-08-07T14:29:17.092180Z",
     "start_time": "2022-08-07T14:29:17.078246Z"
    }
   },
   "outputs": [
    {
     "name": "stdout",
     "output_type": "stream",
     "text": [
      "C:\\Users\\davidra\\Desktop\\NINJA_RAFAEL\\Ninja2-master\\DetectShapes\\shapes_and_colors\\circle.png\n",
      "color tuple is (221, 42, 27) and it is RED\n"
     ]
    }
   ],
   "source": [
    "dirpath = r\"C:\\Users\\davidra\\Desktop\\NINJA_RAFAEL\\Ninja2-master\\DetectShapes\\shapes_and_colors\"\n",
    "filename = r\"circle.png\"\n",
    "full_path = os.path.join(dirpath, filename)\n",
    "print(full_path)\n",
    "image = LoadFrame(filename,dirpath)\n",
    "color = GetCV2ImageCenterColor(image)\n",
    "print(f\"color tuple is {color} and it is RED\")"
   ]
  },
  {
   "cell_type": "code",
   "execution_count": 66,
   "metadata": {
    "ExecuteTime": {
     "end_time": "2022-08-07T14:29:19.203376Z",
     "start_time": "2022-08-07T14:29:19.194346Z"
    }
   },
   "outputs": [
    {
     "name": "stdout",
     "output_type": "stream",
     "text": [
      "C:\\Users\\davidra\\Desktop\\NINJA_RAFAEL\\Ninja2-master\\DetectShapes\\shapes_and_colors\\octagon.png\n",
      "color tuple is (250, 223, 18) and it is Yellow\n"
     ]
    }
   ],
   "source": [
    "dirpath = r\"C:\\Users\\davidra\\Desktop\\NINJA_RAFAEL\\Ninja2-master\\DetectShapes\\shapes_and_colors\"\n",
    "filename = r\"octagon.png\"\n",
    "full_path = os.path.join(dirpath, filename)\n",
    "print(full_path)\n",
    "image = LoadFrame(filename,dirpath)\n",
    "color = GetCV2ImageCenterColor(image)\n",
    "print(f\"color tuple is {color} and it is Yellow\" )"
   ]
  },
  {
   "cell_type": "code",
   "execution_count": 67,
   "metadata": {
    "ExecuteTime": {
     "end_time": "2022-08-07T14:29:48.769689Z",
     "start_time": "2022-08-07T14:29:48.757220Z"
    }
   },
   "outputs": [
    {
     "name": "stdout",
     "output_type": "stream",
     "text": [
      "C:\\Users\\davidra\\Desktop\\NINJA_RAFAEL\\Ninja2-master\\DetectShapes\\shapes_and_colors\\pentagon.png\n",
      "color tuple is (12, 106, 200) and it is Blue\n"
     ]
    }
   ],
   "source": [
    "dirpath = r\"C:\\Users\\davidra\\Desktop\\NINJA_RAFAEL\\Ninja2-master\\DetectShapes\\shapes_and_colors\"\n",
    "filename = r\"pentagon.png\"\n",
    "full_path = os.path.join(dirpath, filename)\n",
    "print(full_path)\n",
    "image = LoadFrame(filename,dirpath)\n",
    "color = GetCV2ImageCenterColor(image)\n",
    "print(f\"color tuple is {color} and it is Blue\" )"
   ]
  },
  {
   "cell_type": "code",
   "execution_count": 68,
   "metadata": {
    "ExecuteTime": {
     "end_time": "2022-08-07T14:30:12.616728Z",
     "start_time": "2022-08-07T14:30:12.606230Z"
    }
   },
   "outputs": [
    {
     "name": "stdout",
     "output_type": "stream",
     "text": [
      "C:\\Users\\davidra\\Desktop\\NINJA_RAFAEL\\Ninja2-master\\DetectShapes\\shapes_and_colors\\rectangle.png\n",
      "color tuple is (160, 88, 66) and it is Brown\n"
     ]
    }
   ],
   "source": [
    "dirpath = r\"C:\\Users\\davidra\\Desktop\\NINJA_RAFAEL\\Ninja2-master\\DetectShapes\\shapes_and_colors\"\n",
    "filename = r\"rectangle.png\"\n",
    "full_path = os.path.join(dirpath, filename)\n",
    "print(full_path)\n",
    "image = LoadFrame(filename,dirpath)\n",
    "color = GetCV2ImageCenterColor(image)\n",
    "print(f\"color tuple is {color} and it is Brown\" )"
   ]
  },
  {
   "cell_type": "code",
   "execution_count": 70,
   "metadata": {
    "ExecuteTime": {
     "end_time": "2022-08-07T14:30:55.608088Z",
     "start_time": "2022-08-07T14:30:55.599083Z"
    }
   },
   "outputs": [
    {
     "name": "stdout",
     "output_type": "stream",
     "text": [
      "C:\\Users\\davidra\\Desktop\\NINJA_RAFAEL\\Ninja2-master\\DetectShapes\\shapes_and_colors\\rhombus.png\n",
      "color tuple is (225, 4, 133) and it is Pink\n"
     ]
    }
   ],
   "source": [
    "dirpath = r\"C:\\Users\\davidra\\Desktop\\NINJA_RAFAEL\\Ninja2-master\\DetectShapes\\shapes_and_colors\"\n",
    "filename = r\"rhombus.png\"\n",
    "full_path = os.path.join(dirpath, filename)\n",
    "print(full_path)\n",
    "image = LoadFrame(filename,dirpath)\n",
    "color = GetCV2ImageCenterColor(image)\n",
    "print(f\"color tuple is {color} and it is Pink\" )"
   ]
  },
  {
   "cell_type": "code",
   "execution_count": 71,
   "metadata": {
    "ExecuteTime": {
     "end_time": "2022-08-07T14:31:58.027690Z",
     "start_time": "2022-08-07T14:31:58.010733Z"
    }
   },
   "outputs": [
    {
     "name": "stdout",
     "output_type": "stream",
     "text": [
      "C:\\Users\\davidra\\Desktop\\NINJA_RAFAEL\\Ninja2-master\\DetectShapes\\shapes_and_colors\\square.png\n",
      "color tuple is (241, 126, 1) and it is Orange\n"
     ]
    }
   ],
   "source": [
    "dirpath = r\"C:\\Users\\davidra\\Desktop\\NINJA_RAFAEL\\Ninja2-master\\DetectShapes\\shapes_and_colors\"\n",
    "filename = r\"square.png\"\n",
    "full_path = os.path.join(dirpath, filename)\n",
    "print(full_path)\n",
    "image = LoadFrame(filename,dirpath)\n",
    "color = GetCV2ImageCenterColor(image)\n",
    "print(f\"color tuple is {color} and it is Orange\" )"
   ]
  },
  {
   "cell_type": "code",
   "execution_count": 72,
   "metadata": {
    "ExecuteTime": {
     "end_time": "2022-08-07T14:32:19.971777Z",
     "start_time": "2022-08-07T14:32:19.962802Z"
    }
   },
   "outputs": [
    {
     "name": "stdout",
     "output_type": "stream",
     "text": [
      "C:\\Users\\davidra\\Desktop\\NINJA_RAFAEL\\Ninja2-master\\DetectShapes\\shapes_and_colors\\star.png\n",
      "color tuple is (28, 146, 80) and it is Green\n"
     ]
    }
   ],
   "source": [
    "dirpath = r\"C:\\Users\\davidra\\Desktop\\NINJA_RAFAEL\\Ninja2-master\\DetectShapes\\shapes_and_colors\"\n",
    "filename = r\"star.png\"\n",
    "full_path = os.path.join(dirpath, filename)\n",
    "print(full_path)\n",
    "image = LoadFrame(filename,dirpath)\n",
    "color = GetCV2ImageCenterColor(image)\n",
    "print(f\"color tuple is {color} and it is Green\" )"
   ]
  },
  {
   "cell_type": "code",
   "execution_count": 74,
   "metadata": {
    "ExecuteTime": {
     "end_time": "2022-08-07T14:49:14.634373Z",
     "start_time": "2022-08-07T14:49:14.621410Z"
    }
   },
   "outputs": [
    {
     "name": "stdout",
     "output_type": "stream",
     "text": [
      "C:\\Users\\davidra\\Desktop\\NINJA_RAFAEL\\Ninja2-master\\DetectShapes\\shapes_and_colors\\triangle.png\n",
      "color tuple is (108, 75, 143) and it is Purple\n"
     ]
    }
   ],
   "source": [
    "dirpath = r\"C:\\Users\\davidra\\Desktop\\NINJA_RAFAEL\\Ninja2-master\\DetectShapes\\shapes_and_colors\"\n",
    "filename = r\"triangle.png\"\n",
    "full_path = os.path.join(dirpath, filename)\n",
    "print(full_path)\n",
    "image = LoadFrame(filename,dirpath)\n",
    "color = GetCV2ImageCenterColor(image)\n",
    "print(f\"color tuple is {color} and it is Purple\" )"
   ]
  },
  {
   "cell_type": "code",
   "execution_count": null,
   "metadata": {},
   "outputs": [],
   "source": [
    "# First column under 80 -> if third col. bigger then second col. and over 100 --> Blue, if third is less then second --> Green\n",
    "(12, 106, 200) and it is Blue\n",
    "(28, 146, 80) and it is Green"
   ]
  },
  {
   "cell_type": "code",
   "execution_count": null,
   "metadata": {},
   "outputs": [],
   "source": [
    "# Third Column above 70 and and if third > first -> Purple, third < first -> Pink\n",
    "(108, 75, 143) and it is Purple\n",
    "(225, 4, 133) and it is Pink"
   ]
  },
  {
   "cell_type": "code",
   "execution_count": null,
   "metadata": {},
   "outputs": [],
   "source": [
    "# Second Column under 100 , and first row >= 160 -- > Red , if Second Column under 100 and third row above 20 -- > Brown\n",
    "(221, 42, 27) and it is RED\n",
    "(160, 88, 66) and it is Brown\n"
   ]
  },
  {
   "cell_type": "code",
   "execution_count": null,
   "metadata": {},
   "outputs": [],
   "source": [
    "# if second Column above 130 then Yellow else Orange\n",
    "(241, 126, 1) and it is Orange\n",
    "(250, 223, 18) and it is Yellow"
   ]
  },
  {
   "cell_type": "code",
   "execution_count": null,
   "metadata": {},
   "outputs": [],
   "source": [
    "(0.06, 0.53, 1) BLUE  # DOMINANT BLUE RED < GREEN -> BLUE\n",
    "(0.755, 0.524, 1) PURPLE # DOMINANT BLUE RED > GREEN -> PURPLE       \n",
    "(0.19, 1, 0.548) GREEN # DOMINANT GREEN -> GREEN\n",
    "(1, 0.01, 0.59) PINK # BLUE > 3*GREEN --> PINK\n",
    "(1, 0.19, 0.122) RED # BLUE+GREEN < 0.45*RED \n",
    "(1, 0.55, 0.41) BROWN # BLUE+GREEN > 0.6*RED AND BLUE =~ GREEN (0.6,1.4)\n",
    "(1, 0.52, 0.005) ORANGE # GREEN < 0.65 AND GREEN > 3*BLUE\n",
    "(1, 0.89, 0.07) YELLOW # GREEN > 0.65 AND GREEN > 3*BLUE"
   ]
  },
  {
   "cell_type": "code",
   "execution_count": null,
   "metadata": {},
   "outputs": [],
   "source": [
    "TEST 1 NORMALIZED RGB\n",
    "\n",
    "(0.14, 0.45, 1) BLUE -> BLUE\n",
    "(0.14, 1, 0.59) GREEN -> GREEN \n",
    "(1, 0.89, 0.07) YELLOW -> YELLOW\n",
    "(0.63, 0.36, 1) PURPLE -> PURPLE"
   ]
  },
  {
   "cell_type": "code",
   "execution_count": null,
   "metadata": {},
   "outputs": [],
   "source": [
    "TEST 2 NORMALIZED RGB\n",
    "\n",
    "(0.21, 0.45, 1) BLUE -> BLUE\n",
    "(1, 0.43, 0.05) ORANGE -> ORANGE\n",
    "(1, 0.44, 0.35) BROWN -> BROWN\n",
    "(1, 0.03, 0) RED -> RED\n",
    "(0.35, 1, 0.65) GREEN -> GREEN\n"
   ]
  },
  {
   "cell_type": "code",
   "execution_count": null,
   "metadata": {},
   "outputs": [],
   "source": [
    "TEST 3 NORMALIZED RGB\n",
    "\n",
    "(1, 0.41, 0.29) BROWN -> BROWN\n",
    "(0.64, 0.39, 1) PURPLE -> PURPLE\n",
    "(0.35, 1, 0.6) GREEN -> GREEN\n",
    "(1, 0.005, 0) RED -> RED\n",
    "(0.16, 0.46, 1) BLUE -> BLUE\n",
    "(1, 0.91, 0.07) YELLOW -> YELLOW\n",
    "(1, 0.34, 0) ORANGE -> ORANGE\n",
    "(1, 0.04, 0.44) PINK -> PINK"
   ]
  },
  {
   "cell_type": "code",
   "execution_count": 87,
   "metadata": {
    "ExecuteTime": {
     "end_time": "2022-08-09T06:05:45.694484Z",
     "start_time": "2022-08-09T06:05:45.674550Z"
    }
   },
   "outputs": [
    {
     "name": "stdout",
     "output_type": "stream",
     "text": [
      "7\n",
      "[1.         0.71428571 0.85714286]\n",
      "1.0\n"
     ]
    },
    {
     "ename": "TypeError",
     "evalue": "'int' object is not subscriptable",
     "output_type": "error",
     "traceback": [
      "\u001b[1;31m---------------------------------------------------------------------------\u001b[0m",
      "\u001b[1;31mTypeError\u001b[0m                                 Traceback (most recent call last)",
      "\u001b[1;32m<ipython-input-87-c0de119c1ddd>\u001b[0m in \u001b[0;36m<module>\u001b[1;34m\u001b[0m\n\u001b[0;32m      4\u001b[0m \u001b[0mprint\u001b[0m\u001b[1;33m(\u001b[0m\u001b[0mb\u001b[0m\u001b[1;33m)\u001b[0m\u001b[1;33m\u001b[0m\u001b[1;33m\u001b[0m\u001b[0m\n\u001b[0;32m      5\u001b[0m \u001b[0mprint\u001b[0m\u001b[1;33m(\u001b[0m\u001b[0mb\u001b[0m\u001b[1;33m[\u001b[0m\u001b[1;36m0\u001b[0m\u001b[1;33m]\u001b[0m\u001b[1;33m)\u001b[0m\u001b[1;33m\u001b[0m\u001b[1;33m\u001b[0m\u001b[0m\n\u001b[1;32m----> 6\u001b[1;33m \u001b[0mprint\u001b[0m\u001b[1;33m(\u001b[0m\u001b[0mb\u001b[0m\u001b[1;33m.\u001b[0m\u001b[0msize\u001b[0m\u001b[1;33m[\u001b[0m\u001b[1;36m0\u001b[0m\u001b[1;33m]\u001b[0m\u001b[1;33m)\u001b[0m\u001b[1;33m\u001b[0m\u001b[1;33m\u001b[0m\u001b[0m\n\u001b[0m",
      "\u001b[1;31mTypeError\u001b[0m: 'int' object is not subscriptable"
     ]
    }
   ],
   "source": [
    "a= (7,5,6)\n",
    "print(max(a))\n",
    "b = np.array(a)/max(a)\n",
    "print(b)\n",
    "print(b[0])\n",
    "print(b.size)"
   ]
  },
  {
   "cell_type": "code",
   "execution_count": 91,
   "metadata": {
    "ExecuteTime": {
     "end_time": "2022-08-09T12:33:10.879320Z",
     "start_time": "2022-08-09T12:33:10.872310Z"
    }
   },
   "outputs": [
    {
     "name": "stdout",
     "output_type": "stream",
     "text": [
      "[0, 0, 0]\n"
     ]
    }
   ],
   "source": [
    "a = [[0,1],[0,2],[0,3]]\n",
    "vall = []\n",
    "for val in a:\n",
    "    vall.append(val[0])\n",
    "\n",
    "print(vall)"
   ]
  }
 ],
 "metadata": {
  "hide_input": false,
  "kernelspec": {
   "display_name": "Python 3",
   "language": "python",
   "name": "python3"
  },
  "language_info": {
   "codemirror_mode": {
    "name": "ipython",
    "version": 3
   },
   "file_extension": ".py",
   "mimetype": "text/x-python",
   "name": "python",
   "nbconvert_exporter": "python",
   "pygments_lexer": "ipython3",
   "version": "3.8.5"
  },
  "varInspector": {
   "cols": {
    "lenName": 16,
    "lenType": 16,
    "lenVar": 40
   },
   "kernels_config": {
    "python": {
     "delete_cmd_postfix": "",
     "delete_cmd_prefix": "del ",
     "library": "var_list.py",
     "varRefreshCmd": "print(var_dic_list())"
    },
    "r": {
     "delete_cmd_postfix": ") ",
     "delete_cmd_prefix": "rm(",
     "library": "var_list.r",
     "varRefreshCmd": "cat(var_dic_list()) "
    }
   },
   "types_to_exclude": [
    "module",
    "function",
    "builtin_function_or_method",
    "instance",
    "_Feature"
   ],
   "window_display": false
  }
 },
 "nbformat": 4,
 "nbformat_minor": 4
}
